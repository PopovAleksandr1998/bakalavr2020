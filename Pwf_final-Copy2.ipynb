{
 "cells": [
  {
   "cell_type": "code",
   "execution_count": 103,
   "metadata": {},
   "outputs": [],
   "source": [
    "import openpyxl\n",
    "import scipy as scipy\n",
    "from scipy import integrate\n",
    "import numpy as np\n",
    "import matplotlib.pyplot as plt\n",
    "%matplotlib inline"
   ]
  },
  {
   "cell_type": "code",
   "execution_count": 104,
   "metadata": {},
   "outputs": [],
   "source": [
    "## считываются заданные переменные из excel\n",
    "wb = openpyxl.load_workbook('test.xlsx') #открываем excel файл\n",
    "sheet=wb.active #ссылается в файле на активную страницу\n",
    "k = sheet['B1'].value #проницаемость\n",
    "mu = sheet['B2'].value #вязкость\n",
    "ct = sheet['B3'].value #сжимаемость\n",
    "rw = sheet['B4'].value #радиус скважины\n",
    "b = sheet['B6'].value #объемный коэф.\n",
    "pi0 = sheet['B7'].value #начальное давление\n",
    "m = sheet['B8'].value #пористость\n",
    "h = sheet['B10'].value #толщина\n",
    "s = sheet['B11'].value #cкин фактор\n",
    "r = sheet['B13'].value #расстояние\n",
    "cs=sheet['B18'].value  #влияние ствола скважины"
   ]
  },
  {
   "cell_type": "code",
   "execution_count": 106,
   "metadata": {},
   "outputs": [
    {
     "name": "stdout",
     "output_type": "stream",
     "text": [
      "2.0\n",
      "2.0\n",
      "4.0\n",
      "1.0\n",
      "5.0\n"
     ]
    },
    {
     "data": {
      "text/plain": [
       "14"
      ]
     },
     "execution_count": 106,
     "metadata": {},
     "output_type": "execute_result"
    }
   ],
   "source": [
    "# Создается массив из длительностей режима и суммируются все дни\n",
    "srok=[0]*100 # массив для длительности режимов\n",
    "time=[0]*100\n",
    "all_days_of_work=0\n",
    "i_for_days=2\n",
    "days=sheet.cell(row=i_for_days, column=5).value \n",
    "while  str(days)!='None': # цикл, в котором считывается длительность режима\n",
    " srok[i_for_days-2]=float(days)\n",
    " time[i_for_days-2]=float(days)\n",
    " print(srok[i_for_days-2])\n",
    " all_days_of_work=all_days_of_work+days\n",
    " i_for_days=i_for_days+1\n",
    " days=sheet.cell(row=i_for_days, column=5).value \n",
    "#суммируем все дни:\n",
    "all_days_of_work"
   ]
  },
  {
   "cell_type": "code",
   "execution_count": 130,
   "metadata": {},
   "outputs": [
    {
     "name": "stdout",
     "output_type": "stream",
     "text": [
      "7\n",
      "5\n",
      "11\n",
      "12\n",
      "6\n"
     ]
    }
   ],
   "source": [
    "\n",
    "i_for_q=2\n",
    "points_for_q=[0]*100# массив для дебитов\n",
    "points_for_q[0]=sheet.cell(row=i_for_q, column=4).value \n",
    "while  str(points_for_q[i_for_q-2])!='None': # цикл, в которм считываются значения дебитов\n",
    "    \n",
    " print(points_for_q[i_for_q-2])\n",
    " i_for_q=i_for_q+1 \n",
    " points_for_q[i_for_q-2]=sheet.cell(row=i_for_q, column=4).value \n",
    "i_for_q=i_for_q-2\n"
   ]
  },
  {
   "cell_type": "code",
   "execution_count": 88,
   "metadata": {},
   "outputs": [],
   "source": [
    "# Задается функция \"изменение забойного давления\"\n",
    "def pwf(k,q,b,t,mu,m,ct,rw,pi): \n",
    " rd=0.1/rw   \n",
    " td=0.00036*k*t\n",
    " td = td /mu/m/ct/(rw**2)+0.01\n",
    " E_1=scipy.special.expi(-rd**2/4/td)\n",
    " pd=-0.5*E_1\n",
    " dp=18.41*b*mu*pd/k/h*q\n",
    " return pi-dp   "
   ]
  },
  {
   "cell_type": "code",
   "execution_count": 89,
   "metadata": {},
   "outputs": [],
   "source": [
    "# вводится массив srok1, чтобы в дальнейшем определить время , с которого скважина начинает работать с конкретным режимом\n",
    "i=0\n",
    "srok1=np.array(srok)\n",
    "points_for_q1=np.array(points_for_q)\n",
    "while i<i_for_q-1:\n",
    "    srok1[i+1]=srok1[i]+srok1[i+1]\n",
    "    i=i+1"
   ]
  },
  {
   "cell_type": "code",
   "execution_count": 129,
   "metadata": {
    "scrolled": true
   },
   "outputs": [
    {
     "name": "stdout",
     "output_type": "stream",
     "text": [
      "Введите шаг 0,1\n"
     ]
    },
    {
     "ename": "ValueError",
     "evalue": "could not convert string to float: '0,1'",
     "output_type": "error",
     "traceback": [
      "\u001b[1;31m---------------------------------------------------------------------------\u001b[0m",
      "\u001b[1;31mValueError\u001b[0m                                Traceback (most recent call last)",
      "\u001b[1;32m<ipython-input-129-3fef8a5215b0>\u001b[0m in \u001b[0;36m<module>\u001b[1;34m\u001b[0m\n\u001b[1;32m----> 1\u001b[1;33m \u001b[0mdx\u001b[0m \u001b[1;33m=\u001b[0m\u001b[0mfloat\u001b[0m\u001b[1;33m(\u001b[0m\u001b[0minput\u001b[0m\u001b[1;33m(\u001b[0m\u001b[1;34m'Введите шаг '\u001b[0m\u001b[1;33m)\u001b[0m\u001b[1;33m)\u001b[0m\u001b[1;33m\u001b[0m\u001b[1;33m\u001b[0m\u001b[0m\n\u001b[0m\u001b[0;32m      2\u001b[0m \u001b[0ma\u001b[0m\u001b[1;33m=\u001b[0m\u001b[0mint\u001b[0m\u001b[1;33m(\u001b[0m\u001b[0mall_days_of_work\u001b[0m\u001b[1;33m//\u001b[0m\u001b[0mdx\u001b[0m\u001b[1;33m)\u001b[0m \u001b[1;31m# разбиваем суммарный временной промежуток заданным шагом\u001b[0m\u001b[1;33m\u001b[0m\u001b[1;33m\u001b[0m\u001b[0m\n\u001b[0;32m      3\u001b[0m \u001b[0mY\u001b[0m\u001b[1;33m=\u001b[0m\u001b[1;33m[\u001b[0m\u001b[1;36m0\u001b[0m\u001b[1;33m]\u001b[0m\u001b[1;33m*\u001b[0m\u001b[1;33m(\u001b[0m\u001b[0ma\u001b[0m\u001b[1;33m)\u001b[0m\u001b[1;33m\u001b[0m\u001b[1;33m\u001b[0m\u001b[0m\n\u001b[0;32m      4\u001b[0m \u001b[0mY\u001b[0m\u001b[1;33m=\u001b[0m\u001b[0mnp\u001b[0m\u001b[1;33m.\u001b[0m\u001b[0marray\u001b[0m\u001b[1;33m(\u001b[0m\u001b[0mY\u001b[0m\u001b[1;33m)\u001b[0m\u001b[1;33m\u001b[0m\u001b[1;33m\u001b[0m\u001b[0m\n\u001b[0;32m      5\u001b[0m \u001b[0mi\u001b[0m\u001b[1;33m=\u001b[0m\u001b[1;36m0\u001b[0m\u001b[1;33m\u001b[0m\u001b[1;33m\u001b[0m\u001b[0m\n",
      "\u001b[1;31mValueError\u001b[0m: could not convert string to float: '0,1'"
     ]
    }
   ],
   "source": [
    "\n",
    "dx =float(input('Введите шаг ')) \n",
    "a=int(all_days_of_work//dx) # разбиваем суммарный временной промежуток заданным шагом\n",
    "Y=[0]*(a)\n",
    "Y=np.array(Y)\n",
    "i=0\n",
    "d0=0 #начальный момент времени\n",
    "pi=pi0 #начальное забойное давление\n",
    "fig, ax = plt.subplots()\n",
    "ax.set_xlabel('time (days)')\n",
    "ax.set_ylabel('pressure (atm)')\n",
    "while i<i_for_q:\n",
    " x=np.linspace(0,srok[i],num=a) # создаем и возвращаем массив для оси X\n",
    " print('начальный момент времени')\n",
    " print(d0)\n",
    " print('дебит')\n",
    " print(points_for_q[i])\n",
    " print('забойное давление')\n",
    " print(pi)\n",
    " Y=pwf(k,points_for_q[i],b,x,mu,m,ct,rw,pi) #задаем ось Y для графика, вызывая функцию pwf\n",
    " pi=min(Y) #конечное забоеное давление для i-го режима\n",
    " x=np.linspace(d0,srok1[i],num=a) #задаем ось X для графика\n",
    " d0=srok1[i] #конечное время для i-го режима\n",
    " print('конечный момент времени')\n",
    " print(srok[i])\n",
    " i=i+1\n",
    " plt.plot(x,Y) #строим график\n",
    " print()\n",
    " print()\n",
    "print(all_days_of_work)\n",
    "\n",
    "#fig, ax = plt.subplots()\n",
    "#X=np.linspace(0,all_days_of_work,i_for_q+1)\n",
    "#Y=points_for_q\n",
    "#plt.plot(X,Y)"
   ]
  },
  {
   "cell_type": "code",
   "execution_count": 91,
   "metadata": {},
   "outputs": [],
   "source": [
    "import openpyxl\n",
    "\n",
    "# создаем новый excel-файл\n",
    "wb = openpyxl.Workbook()\n",
    "\n",
    "# добавляем новый лист\n",
    "wb.create_sheet(title = 'Первый лист', index = 0)\n",
    "\n",
    "# получаем лист, с которым будем работать\n",
    "sheet = wb['Первый лист']\n",
    "a=10\n",
    "cell=sheet.cell(row=5,column=8)\n",
    "cell.value='huy'\n",
    "\n",
    "wb.save('example.xlsx')"
   ]
  },
  {
   "cell_type": "code",
   "execution_count": 134,
   "metadata": {},
   "outputs": [],
   "source": [
    "i=0\n",
    "\n",
    "points_for_q1=np.array(points_for_q)\n",
    "while i<i_for_q-1:\n",
    "    points_for_q1[i+1]=points_for_q1[i]+points_for_q1[i+1]\n",
    "    i=i+1\n"
   ]
  },
  {
   "cell_type": "code",
   "execution_count": 135,
   "metadata": {},
   "outputs": [
    {
     "name": "stdout",
     "output_type": "stream",
     "text": [
      "7\n",
      "[7, 7, 7, 7, 7]\n",
      "12\n",
      "[12, 12, 12, 12, 12]\n",
      "23\n",
      "[23, 23, 23, 23, 23]\n",
      "35\n",
      "[35, 35, 35, 35, 35]\n",
      "41\n",
      "[41, 41, 41, 41, 41]\n"
     ]
    },
    {
     "data": {
      "image/png": "[encoded data removed]",
      "text/plain": [
       "<Figure size 432x288 with 1 Axes>"
      ]
     },
     "metadata": {
      "needs_background": "light"
     },
     "output_type": "display_data"
    }
   ],
   "source": [
    "d0=0 #начальный момент времени\n",
    "\n",
    "fig, ax = plt.subplots()\n",
    "ax.set_xlabel('time (days)')\n",
    "ax.set_ylabel('q (m3/day)')\n",
    "j=0\n",
    "i=0\n",
    "while  i<=4: # цикл, в которм считываются значения дебитов\n",
    " x=np.linspace(d0,srok1[i],5)\n",
    " while j<=4:\n",
    "        Y=[points_for_q1[i]]*5\n",
    "        j=j+1\n",
    " print(points_for_q1[i])\n",
    " print(Y)\n",
    " j=0\n",
    " plt.plot(x,Y)\n",
    " \n",
    " d0=srok1[i] #конечное время для i-го режима\n",
    "\n",
    " i=i+1\n",
    "\n"
   ]
  },
  {
   "cell_type": "code",
   "execution_count": null,
   "metadata": {},
   "outputs": [],
   "source": []
  }
 ],
 "metadata": {
  "kernelspec": {
   "display_name": "Python 3",
   "language": "python",
   "name": "python3"
  },
  "language_info": {
   "codemirror_mode": {
    "name": "ipython",
    "version": 3
   },
   "file_extension": ".py",
   "mimetype": "text/x-python",
   "name": "python",
   "nbconvert_exporter": "python",
   "pygments_lexer": "ipython3",
   "version": "3.7.3"
  }
 },
 "nbformat": 4,
 "nbformat_minor": 2
}
