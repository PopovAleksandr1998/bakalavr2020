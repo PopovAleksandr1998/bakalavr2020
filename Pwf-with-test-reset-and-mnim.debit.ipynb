{
 "cells": [
  {
   "cell_type": "code",
   "execution_count": 1,
   "metadata": {},
   "outputs": [],
   "source": [
    "import openpyxl\n",
    "import scipy as scipy\n",
    "from scipy import integrate\n",
    "import numpy as np\n",
    "import matplotlib.pyplot as plt\n",
    "%matplotlib inline"
   ]
  },
  {
   "cell_type": "code",
   "execution_count": 2,
   "metadata": {},
   "outputs": [],
   "source": [
    "## считываются заданные переменные из excel\n",
    "wb = openpyxl.load_workbook('test.xlsx') #открываем excel файл\n",
    "sheet=wb.active #ссылается в файле на активную страницу\n",
    "k = sheet['B1'].value #проницаемость\n",
    "mu = sheet['B2'].value #вязкость\n",
    "ct = sheet['B3'].value #сжимаемость\n",
    "rw = sheet['B4'].value #радиус скважины\n",
    "b = sheet['B6'].value #объемный коэф.\n",
    "pi0 = sheet['B7'].value #начальное давление\n",
    "m = sheet['B8'].value #пористость\n",
    "h = sheet['B10'].value #толщина\n",
    "s = sheet['B11'].value #cкин фактор\n",
    "r = sheet['B13'].value #расстояние\n",
    "cs=sheet['B18'].value  #влияние ствола скважины"
   ]
  },
  {
   "cell_type": "code",
   "execution_count": 14,
   "metadata": {},
   "outputs": [
    {
     "name": "stdout",
     "output_type": "stream",
     "text": [
      "2\n",
      "2\n",
      "4\n",
      "1\n",
      "5\n"
     ]
    }
   ],
   "source": [
    "# Создается массив из длительностей режима и суммируются все дни\n",
    "srok=[0]*100 # массив для длительности режимов\n",
    "time=[0]*100\n",
    "all_days_of_work=0\n",
    "i_for_days=2\n",
    "days=sheet.cell(row=i_for_days, column=5).value \n",
    "while  str(days)!='None': # цикл, в котором считывается длительность режима\n",
    " srok[i_for_days-2]=int(days)\n",
    " print(srok[i_for_days-2])\n",
    " all_days_of_work=all_days_of_work+days\n",
    " i_for_days=i_for_days+1 \n",
    " days=sheet.cell(row=i_for_days, column=5).value \n",
    "#суммируем все дни:\n"
   ]
  },
  {
   "cell_type": "code",
   "execution_count": 15,
   "metadata": {},
   "outputs": [
    {
     "name": "stdout",
     "output_type": "stream",
     "text": [
      "7\n",
      "5\n",
      "11\n",
      "12\n",
      "6\n"
     ]
    }
   ],
   "source": [
    "\n",
    "i_for_q=2\n",
    "points_for_q=[0]*100# массив для дебитов\n",
    "points_for_q[0]=sheet.cell(row=i_for_q, column=4).value \n",
    "while  str(points_for_q[i_for_q-2])!='None': # цикл, в которм считываются значения дебитов\n",
    "     \n",
    " print(points_for_q[i_for_q-2])\n",
    " i_for_q=i_for_q+1 \n",
    " points_for_q[i_for_q-2]=sheet.cell(row=i_for_q, column=4).value\n",
    "i_for_q=i_for_q-2\n"
   ]
  },
  {
   "cell_type": "code",
   "execution_count": 16,
   "metadata": {},
   "outputs": [],
   "source": [
    "# Задается функция \"изменение забойного давления\"\n",
    "def pwf(k,q,b,t,mu,m,ct,rw,pi): \n",
    " rd=0.1/rw   \n",
    " td=0.00036*k*t\n",
    " td = td /mu/m/ct/(rw**2)+0.01\n",
    " E_1=scipy.special.expi(-rd**2/4/td)\n",
    " pd=-0.5*E_1\n",
    " dp=18.41*b*mu*pd/k/h*q\n",
    " return pi-dp   "
   ]
  },
  {
   "cell_type": "code",
   "execution_count": 17,
   "metadata": {},
   "outputs": [],
   "source": [
    "# вводится массив srok1, чтобы в дальнейшем определить время , с которого скважина начинает работать с конкретным режимом\n",
    "i=0\n",
    "srok1=np.array(srok) \n",
    "while i<i_for_q-1:\n",
    "    srok1[i+1]=srok1[i]+srok1[i+1]\n",
    "    i=i+1"
   ]
  },
  {
   "cell_type": "code",
   "execution_count": 20,
   "metadata": {
    "scrolled": true
   },
   "outputs": [
    {
     "name": "stdout",
     "output_type": "stream",
     "text": [
      "Введите шаг 0.1\n",
      "начальный момент времени\n",
      "0\n",
      "дебит\n",
      "7\n",
      "250\n",
      "конечный момент времени\n",
      "2\n",
      "\n",
      "начальный момент времени\n",
      "2\n",
      "дебит\n",
      "5\n",
      "244.82723731659954\n",
      "конечный момент времени\n",
      "4\n",
      "\n",
      "начальный момент времени\n",
      "4\n",
      "дебит\n",
      "11\n",
      "241.13240682845637\n",
      "конечный момент времени\n",
      "8\n",
      "\n",
      "начальный момент времени\n",
      "8\n",
      "дебит\n",
      "12\n",
      "232.58267232216798\n",
      "конечный момент времени\n",
      "9\n",
      "\n",
      "начальный момент времени\n",
      "9\n",
      "дебит\n",
      "6\n",
      "224.1744687776877\n",
      "конечный момент времени\n",
      "14\n",
      "\n"
     ]
    },
    {
     "data": {
      "text/plain": [
       "[<matplotlib.lines.Line2D at 0x176ee830978>]"
      ]
     },
     "execution_count": 20,
     "metadata": {},
     "output_type": "execute_result"
    },
    {
     "data": {
      "image/png": "[encoded data removed]",
      "text/plain": [
       "<Figure size 432x288 with 1 Axes>"
      ]
     },
     "metadata": {
      "needs_background": "light"
     },
     "output_type": "display_data"
    }
   ],
   "source": [
    "dx =float(input('Введите шаг ')) \n",
    "a=int(all_days_of_work//dx) # разбиваем суммарный временной промежуток заданным шагом\n",
    "Y=[0]*(a)\n",
    "Y=np.array(Y)\n",
    "i=0\n",
    "d0=0 #начальный момент времени\n",
    "pi=pi0 #начальное забойное давление\n",
    "while i<i_for_q:\n",
    " x=np.linspace(0,srok[i],num=a) # создаем и возвращаем массив для оси X\n",
    " print('начальный момент времени')\n",
    " print(d0)\n",
    " print('дебит')\n",
    " print(points_for_q[i])\n",
    " print(pi)\n",
    " Y=pwf(k,points_for_q[i],b,x,mu,m,ct,rw,pi) #задаем ось Y для графика, вызывая функцию pwf\n",
    "\n",
    " pi=min(Y) #конечное забоеное давление для i-го режима\n",
    " \n",
    " x=np.linspace(d0,srok1[i],num=a) #задаем ось X для графика\n",
    " d0=srok1[i] #конечное время для i-го режима\n",
    " print('конечный момент времени')\n",
    " print(srok1[i])\n",
    " i=i+1\n",
    "\n",
    " plt.plot(x,Y) #строим график\n",
    " print()\n",
    "    \n",
    "def pwf_reset(k,q,b,x,mu,m,ct,rw,pi,a,pw):\n",
    " x=np.linspace(0,1,num=a)\n",
    " x1=np.linspace(3,4,num=a)\n",
    " return pw-pwf(k,q,b,x,mu,m,ct,rw,250)+250\n",
    "pw=min(Y) \n",
    "pi=pi0\n",
    "\n",
    "x=np.linspace(srok1[i-1],srok1[i-1]+10,num=a)\n",
    "Y=pwf_reset(k,41,b,x,mu,m,ct,rw,pi,a,pw)\n",
    "plt.plot(x,Y)\n",
    "\n",
    "\n"
   ]
  },
  {
   "cell_type": "code",
   "execution_count": 21,
   "metadata": {},
   "outputs": [],
   "source": [
    "i=0\n",
    "\n",
    "points_for_q1=np.array(points_for_q)\n",
    "while i<i_for_q-1:\n",
    "    points_for_q1[i+1]=points_for_q1[i]+points_for_q1[i+1]\n",
    "    i=i+1"
   ]
  },
  {
   "cell_type": "code",
   "execution_count": 33,
   "metadata": {},
   "outputs": [
    {
     "ename": "TypeError",
     "evalue": "unsupported operand type(s) for +: 'int' and 'NoneType'",
     "output_type": "error",
     "traceback": [
      "\u001b[1;31m---------------------------------------------------------------------------\u001b[0m",
      "\u001b[1;31mTypeError\u001b[0m                                 Traceback (most recent call last)",
      "\u001b[1;32m<ipython-input-33-eaff599b0fce>\u001b[0m in \u001b[0;36m<module>\u001b[1;34m\u001b[0m\n\u001b[1;32m----> 1\u001b[1;33m \u001b[0msum\u001b[0m\u001b[1;33m(\u001b[0m\u001b[0mpoints_for_q1\u001b[0m\u001b[1;33m)\u001b[0m\u001b[1;33m\u001b[0m\u001b[1;33m\u001b[0m\u001b[0m\n\u001b[0m",
      "\u001b[1;31mTypeError\u001b[0m: unsupported operand type(s) for +: 'int' and 'NoneType'"
     ]
    }
   ],
   "source": [
    "sum(points_for_q1)"
   ]
  },
  {
   "cell_type": "code",
   "execution_count": 40,
   "metadata": {},
   "outputs": [
    {
     "data": {
      "text/plain": [
       "41.00000000000001"
      ]
     },
     "execution_count": 40,
     "metadata": {},
     "output_type": "execute_result"
    },
    {
     "data": {
      "image/png": "[encoded data removed]",
      "text/plain": [
       "<Figure size 432x288 with 1 Axes>"
      ]
     },
     "metadata": {
      "needs_background": "light"
     },
     "output_type": "display_data"
    }
   ],
   "source": [
    "i=0 #график дебитов\n",
    "j=0\n",
    "y=[0]*i_for_q*5\n",
    "a=0\n",
    "while str(points_for_q[i])!='None':\n",
    "    while j<5+a:\n",
    "        y[j]=points_for_q[i]\n",
    "        j=j+1\n",
    "    a=j\n",
    "    i=i+1\n",
    "d0=0 #начальный момент времени\n",
    "fig, ax = plt.subplots()\n",
    "ax.set_xlabel('time (days)')\n",
    "ax.set_ylabel('q (m3/day)')\n",
    "x=np.linspace(d0,srok1[i_for_q-1],i_for_q*5)\n",
    "plt.plot(x,y)\n",
    " #конечное время для i-го режима\n",
    "y=np.array(y)\n",
    "y=y/5\n",
    "b=sum(y)\n",
    "b#МНИМЫЙ ДЕБИТ НАДО ЗАСУНУТЬ ПЕРЕД ГРАФИКОМ ЗАБОЙНОГО ДАВЛЕНИЯ ДЛЯ ВОССТАНОВЛЕНИЯ"
   ]
  },
  {
   "cell_type": "code",
   "execution_count": null,
   "metadata": {},
   "outputs": [],
   "source": []
  }
 ],
 "metadata": {
  "kernelspec": {
   "display_name": "Python 3",
   "language": "python",
   "name": "python3"
  },
  "language_info": {
   "codemirror_mode": {
    "name": "ipython",
    "version": 3
   },
   "file_extension": ".py",
   "mimetype": "text/x-python",
   "name": "python",
   "nbconvert_exporter": "python",
   "pygments_lexer": "ipython3",
   "version": "3.7.3"
  }
 },
 "nbformat": 4,
 "nbformat_minor": 2
}
