{
 "cells": [
  {
   "cell_type": "code",
   "execution_count": 1,
   "metadata": {},
   "outputs": [],
   "source": [
    "import openpyxl\n",
    "import scipy as scipy\n",
    "from scipy import integrate\n",
    "import numpy as np\n",
    "import matplotlib.pyplot as plt\n",
    "%matplotlib inline"
   ]
  },
  {
   "cell_type": "code",
   "execution_count": 2,
   "metadata": {},
   "outputs": [],
   "source": [
    "## считываются заданные переменные из excel\n",
    "wb = openpyxl.load_workbook('test.xlsx') #открываем excel файл\n",
    "sheet=wb.active #ссылается в файле на активную страницу\n",
    "k = sheet['B1'].value #проницаемость\n",
    "mu = sheet['B2'].value #вязкость\n",
    "ct = sheet['B3'].value #сжимаемость\n",
    "rw = sheet['B4'].value #радиус скважины\n",
    "b = sheet['B6'].value #объемный коэф.\n",
    "pi0 = sheet['B7'].value #начальное давление\n",
    "m = sheet['B8'].value #пористость\n",
    "h = sheet['B10'].value #толщина\n",
    "s = sheet['B11'].value #cкин фактор\n",
    "r = sheet['B13'].value #расстояние\n",
    "cs=sheet['B18'].value  #влияние ствола скважины"
   ]
  },
  {
   "cell_type": "code",
   "execution_count": 3,
   "metadata": {},
   "outputs": [
    {
     "name": "stdout",
     "output_type": "stream",
     "text": [
      "2.0\n",
      "2.0\n",
      "4.0\n",
      "1.0\n",
      "5.0\n"
     ]
    },
    {
     "data": {
      "text/plain": [
       "14"
      ]
     },
     "execution_count": 3,
     "metadata": {},
     "output_type": "execute_result"
    }
   ],
   "source": [
    "# Создается массив из длительностей режима и суммируются все дни\n",
    "srok=[0]*100 # массив для длительности режимов\n",
    "all_days_of_work=0\n",
    "i_for_days=2\n",
    "days=sheet.cell(row=i_for_days, column=5).value \n",
    "while  str(days)!='None': # цикл, в котором считывается длительность режима\n",
    " srok[i_for_days-2]=float(days)\n",
    " print(srok[i_for_days-2])\n",
    " all_days_of_work=all_days_of_work+days\n",
    " i_for_days=i_for_days+1\n",
    " days=sheet.cell(row=i_for_days, column=5).value \n",
    "#суммируем все дни:\n",
    "all_days_of_work"
   ]
  },
  {
   "cell_type": "code",
   "execution_count": 4,
   "metadata": {},
   "outputs": [
    {
     "name": "stdout",
     "output_type": "stream",
     "text": [
      "15\n",
      "20\n",
      "10\n",
      "5\n",
      "18\n"
     ]
    }
   ],
   "source": [
    "i_for_q=2\n",
    "points_for_q=[0]*101 # массив для дебитов\n",
    "points_for_q[0]=sheet.cell(row=i_for_q, column=4).value \n",
    "while  str(points_for_q[i_for_q-2])!='None': # цикл, в которм считываются значения дебитов\n",
    " print(points_for_q[i_for_q-2])\n",
    " i_for_q=i_for_q+1 \n",
    " points_for_q[i_for_q-2]=sheet.cell(row=i_for_q, column=4).value \n",
    "i_for_q=i_for_q-2\n"
   ]
  },
  {
   "cell_type": "code",
   "execution_count": 5,
   "metadata": {},
   "outputs": [],
   "source": [
    "# Задается функция \"изменение забойного давления\"\n",
    "def pwf(k,q,b,t,mu,m,ct,rw,pi): \n",
    " rd=0.1/rw   \n",
    " td=0.00036*k*t\n",
    " td = td /mu/m/ct/(rw**2)+0.01\n",
    " E_1=scipy.special.expi(-rd**2/4/td)\n",
    " pd=-0.5*E_1\n",
    " dp=18.41*b*mu*pd/k/h*q\n",
    " return pi-dp   "
   ]
  },
  {
   "cell_type": "code",
   "execution_count": 6,
   "metadata": {},
   "outputs": [],
   "source": [
    "# вводится массив srok1, чтобы в дальнейшем определить время , с которого скважина начинает работать с конкретным режимом\n",
    "i=0\n",
    "srok1=np.array(srok) \n",
    "while i<i_for_q-1:\n",
    "    srok1[i+1]=srok1[i]+srok1[i+1]\n",
    "    i=i+1"
   ]
  },
  {
   "cell_type": "code",
   "execution_count": 7,
   "metadata": {
    "scrolled": true
   },
   "outputs": [
    {
     "name": "stdout",
     "output_type": "stream",
     "text": [
      "Введите шаг 0.1\n",
      "начальный момент времени\n",
      "0\n",
      "дебит\n",
      "15\n",
      "забойное давление\n",
      "250\n",
      "конечный момент времени\n",
      "2.0\n",
      "\n",
      "\n",
      "начальный момент времени\n",
      "2.0\n",
      "дебит\n",
      "20\n",
      "забойное давление\n",
      "238.91550853557047\n",
      "конечный момент времени\n",
      "2.0\n",
      "\n",
      "\n",
      "начальный момент времени\n",
      "4.0\n",
      "дебит\n",
      "10\n",
      "забойное давление\n",
      "224.13618658299774\n",
      "конечный момент времени\n",
      "4.0\n",
      "\n",
      "\n",
      "начальный момент времени\n",
      "8.0\n",
      "дебит\n",
      "5\n",
      "забойное давление\n",
      "216.36370066819012\n",
      "конечный момент времени\n",
      "1.0\n",
      "\n",
      "\n",
      "начальный момент времени\n",
      "9.0\n",
      "дебит\n",
      "18\n",
      "забойное давление\n",
      "212.86028252465667\n",
      "конечный момент времени\n",
      "5.0\n",
      "\n",
      "\n"
     ]
    },
    {
     "data": {
      "image/png": "[encoded data removed]",
      "text/plain": [
       "<Figure size 432x288 with 1 Axes>"
      ]
     },
     "metadata": {
      "needs_background": "light"
     },
     "output_type": "display_data"
    }
   ],
   "source": [
    "\n",
    "dx =float(input('Введите шаг ')) \n",
    "a=int(all_days_of_work//dx) # разбиваем суммарный временной промежуток заданным шагом\n",
    "Y=[0]*(a)\n",
    "Y=np.array(Y)\n",
    "i=0\n",
    "d0=0 #начальный момент времени\n",
    "pi=pi0 #начальное забойное давление\n",
    "fig, ax = plt.subplots()\n",
    "ax.set_xlabel('time (days)')\n",
    "ax.set_ylabel('pressure (atm)')\n",
    "while i<i_for_q:\n",
    " x=np.linspace(0,srok[i],num=a) # создаем и возвращаем массив для оси X\n",
    " print('начальный момент времени')\n",
    " print(d0)\n",
    " print('дебит')\n",
    " print(points_for_q[i])\n",
    " print('забойное давление')\n",
    " print(pi)\n",
    " Y=pwf(k,points_for_q[i],b,x,mu,m,ct,rw,pi) #задаем ось Y для графика, вызывая функцию pwf\n",
    " pi=min(Y) #конечное забоеное давление для i-го режима\n",
    " x=np.linspace(d0,srok1[i],num=a) #задаем ось X для графика\n",
    " d0=srok1[i] #конечное время для i-го режима\n",
    " print('конечный момент времени')\n",
    " print(srok[i])\n",
    " i=i+1\n",
    " plt.plot(x,Y) #строим график\n",
    " print()\n",
    " print()"
   ]
  },
  {
   "cell_type": "code",
   "execution_count": null,
   "metadata": {},
   "outputs": [],
   "source": [
    "import openpyxl\n",
    "\n",
    "# создаем новый excel-файл\n",
    "wb = openpyxl.Workbook()\n",
    "\n",
    "# добавляем новый лист\n",
    "wb.create_sheet(title = 'Первый лист', index = 0)\n",
    "\n",
    "# получаем лист, с которым будем работать\n",
    "sheet = wb['Первый лист']\n",
    "a=10\n",
    "cell=sheet.cell(row=5,column=8)\n",
    "cell.value='huy'\n",
    "\n",
    "wb.save('example.xlsx')"
   ]
  },
  {
   "cell_type": "code",
   "execution_count": null,
   "metadata": {},
   "outputs": [],
   "source": []
  },
  {
   "cell_type": "code",
   "execution_count": null,
   "metadata": {},
   "outputs": [],
   "source": []
  }
 ],
 "metadata": {
  "kernelspec": {
   "display_name": "Python 3",
   "language": "python",
   "name": "python3"
  },
  "language_info": {
   "codemirror_mode": {
    "name": "ipython",
    "version": 3
   },
   "file_extension": ".py",
   "mimetype": "text/x-python",
   "name": "python",
   "nbconvert_exporter": "python",
   "pygments_lexer": "ipython3",
   "version": "3.7.3"
  }
 },
 "nbformat": 4,
 "nbformat_minor": 2
}
