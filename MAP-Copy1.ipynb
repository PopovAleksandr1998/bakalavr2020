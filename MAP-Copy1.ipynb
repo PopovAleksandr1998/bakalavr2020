{
 "cells": [
  {
   "cell_type": "markdown",
   "metadata": {},
   "source": [
    "еще наверное лучше чистить ноутбук, перед тем как коммитить. тогда можно отследить изменения в коде, которые не будут замылены результатами."
   ]
  },
  {
   "cell_type": "markdown",
   "metadata": {},
   "source": [
    "ну и название тетрадки должно быть нормальным"
   ]
  },
  {
   "cell_type": "markdown",
   "metadata": {},
   "source": [
    "Тут должно быть имя автора\n",
    "\n",
    "Название работы\n",
    "\n",
    "\n",
    "Чтобы труд сохранялся\n",
    "\n",
    "\n",
    "Задача и идея, основные формулы"
   ]
  },
  {
   "cell_type": "markdown",
   "metadata": {},
   "source": [
    "Импортируем необходимые модули и объявим расчетные функции (все это вверху)"
   ]
  },
  {
   "cell_type": "code",
   "execution_count": null,
   "metadata": {},
   "outputs": [],
   "source": [
    "import matplotlib.pyplot as plt\n",
    "import numpy as np\n",
    "from colorama import init\n",
    "init()\n",
    "from colorama import Fore, Back, Style\n",
    "import pylab\n",
    "from mpl_toolkits.mplot3d import Axes3D\n",
    "%matplotlib inline"
   ]
  },
  {
   "cell_type": "code",
   "execution_count": null,
   "metadata": {},
   "outputs": [],
   "source": [
    "def Pc(q,k,h,Pk,vis,Rk,rc):  #нужно задавать нормальные имена переменным - через неделю не вспомнишь, что такое vis\n",
    "    ln=(np.log(Rk)-np.log(rc))/np.log(2.73)\n",
    "    return Pk-((q*vis*ln)/(2*3.14*k*h))/pow(10,6)"
   ]
  },
  {
   "cell_type": "markdown",
   "metadata": {},
   "source": [
    "Задайте параметры скважин, добавляя их параметры последовательно в списки"
   ]
  },
  {
   "cell_type": "code",
   "execution_count": null,
   "metadata": {},
   "outputs": [],
   "source": [
    "#просто тут задать, но лучше через класс или словарь\n",
    "# так быстрее добавлять и изменять, но не очень понятно, когда скважин будет 100\n",
    "q_mass = [100, 200, 300, 400]\n",
    "x_map =  [10, 20 , 300, 400]\n",
    "y_map =  [10, 20 , 300, 400]\n",
    "role = [1, 1, 1, 2]"
   ]
  },
  {
   "cell_type": "code",
   "execution_count": null,
   "metadata": {},
   "outputs": [],
   "source": [
    "k=200*pow(10,-15)\n",
    "h=10  #h_well_connection_m\n",
    "vis=5/1000    #mu_pasec\n",
    "Pk=25\n",
    "Rk=1500\n",
    "rc=0.1\n",
    "number=int(input('Введите количество скважин: '))\n",
    "print('Введите дебиты (закачки) скважин):')\n",
    "q_mass = [float(input())/86400 for _ in range(number)] \n",
    "#q_mass=[100,100,100,100,200]\n",
    "#q_mass=np.array(q_mass)/86400\n",
    "#q_mass\n",
    "print('Введите значения координат Х: ')\n",
    "x_map=[float(input()) for _ in range(number)]\n",
    "#x_map=np.array(x_map)\n",
    "#x_map\n",
    "print('Введите значения координат Y: ')\n",
    "y_map=[float(input()) for _ in range(number)]\n",
    "#y_map=np.array(y_map)\n",
    "#y_map\n",
    "print('Введите виды скважин (PROD=2, INJ=1): ')\n",
    "role=[float(input()) for _ in range(number)]\n",
    "#role=np.array(role)\n",
    "role\n"
   ]
  },
  {
   "cell_type": "code",
   "execution_count": null,
   "metadata": {},
   "outputs": [],
   "source": [
    "x = np.linspace(-1000, 1000, 100)\n",
    "y = np.linspace(-1000, 1000, 100)\n",
    "X, Y = np.meshgrid(x, y)"
   ]
  },
  {
   "cell_type": "markdown",
   "metadata": {},
   "source": [
    "внизу можно все обернуть в функцию, чтобы были: исходные данные, функции, и их вызов с данными"
   ]
  },
  {
   "cell_type": "code",
   "execution_count": null,
   "metadata": {},
   "outputs": [],
   "source": [
    "i=0\n",
    "Psum=0\n",
    "while i<number:\n",
    " P=pow(-1,role[i])*((Pk-Pc(q_mass[i],k,h,Pk,vis,Rk,rc))/((np.log(Rk)-np.log(rc))/np.log(2.73)))*((np.log(Rk)-np.log(np.sqrt(abs((X-x_map[i])**2+(Y-y_map[i])**2))))/np.log(2.73))\n",
    " Psum=Psum+P\n",
    " i=i+1\n",
    "P=Pk-Psum"
   ]
  },
  {
   "cell_type": "markdown",
   "metadata": {},
   "source": [
    "Через markdown можно писать хорошие комметарии\n",
    "\n",
    "Формулы $$Q_{liq}$$\n",
    "\n",
    "И пояснения\n",
    "\n",
    "Сейчас построим график"
   ]
  },
  {
   "cell_type": "code",
   "execution_count": null,
   "metadata": {
    "scrolled": true
   },
   "outputs": [],
   "source": [
    "fig, axes = plt.subplots()\n",
    "\n",
    "cs = plt.contour(X, Y, P,30) #contourf - temperature map\n",
    "cb = plt.colorbar()\n",
    "cb.set_label('Pressure,МПа')\n",
    "axes.clabel(cs) # убрать для температурной карты\n",
    "axes.set_xlabel('Метры')\n",
    "axes.set_ylabel('Метры')\n",
    "plt.show()"
   ]
  },
  {
   "cell_type": "code",
   "execution_count": null,
   "metadata": {},
   "outputs": [],
   "source": []
  },
  {
   "cell_type": "code",
   "execution_count": null,
   "metadata": {},
   "outputs": [],
   "source": []
  }
 ],
 "metadata": {
  "kernelspec": {
   "display_name": "Python 3",
   "language": "python",
   "name": "python3"
  },
  "language_info": {
   "codemirror_mode": {
    "name": "ipython",
    "version": 3
   },
   "file_extension": ".py",
   "mimetype": "text/x-python",
   "name": "python",
   "nbconvert_exporter": "python",
   "pygments_lexer": "ipython3",
   "version": "3.7.3"
  }
 },
 "nbformat": 4,
 "nbformat_minor": 2
}
